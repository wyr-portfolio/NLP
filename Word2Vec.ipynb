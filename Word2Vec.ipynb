{
 "cells": [
  {
   "cell_type": "code",
   "execution_count": 1,
   "id": "e2120b36",
   "metadata": {},
   "outputs": [
    {
     "name": "stderr",
     "output_type": "stream",
     "text": [
      "[nltk_data] Downloading package stopwords to\n",
      "[nltk_data]     C:\\Users\\Trista\\AppData\\Roaming\\nltk_data...\n",
      "[nltk_data]   Package stopwords is already up-to-date!\n"
     ]
    }
   ],
   "source": [
    "import nltk\n",
    "nltk.download('stopwords')\n",
    "from nltk.corpus import stopwords\n",
    "import re\n",
    "from nltk import tokenize\n",
    "import numpy as np\n",
    "\n",
    "stop_words = set(stopwords.words('english'))"
   ]
  },
  {
   "cell_type": "markdown",
   "id": "e0d4a493",
   "metadata": {},
   "source": [
    "# Convert Words to Vectors"
   ]
  },
  {
   "cell_type": "markdown",
   "id": "c665afd9",
   "metadata": {},
   "source": [
    "Load text, remove special characters and stopwords if applicable"
   ]
  },
  {
   "cell_type": "code",
   "execution_count": 2,
   "id": "d8a14f71",
   "metadata": {},
   "outputs": [],
   "source": [
    "def preprocess_text(stopwords='no'):\n",
    "    file_contents = []\n",
    "    with open('word2vec.txt') as f:\n",
    "        file_contents = f.read()\n",
    "\n",
    "    sentences = tokenize.sent_tokenize(file_contents)\n",
    "    text = []\n",
    "\n",
    "    for s in sentences:\n",
    "        s = re.sub(r\"[^a-zA-Z0-9]+\", ' ', s)\n",
    "        s = s.lower()\n",
    "\n",
    "        if stopwords == 'yes' and len(s) > 1: \n",
    "            sentence = remove_stopwords(s)\n",
    "        \n",
    "        text.append(sentence)\n",
    "        \n",
    "    return text\n",
    "\n",
    "def remove_stopwords(text):\n",
    "    words = text.split(' ')\n",
    "    sentence = ''\n",
    "\n",
    "    for word in words:\n",
    "        if word not in stop_words:\n",
    "            sentence += word + ' '\n",
    "    \n",
    "    return sentence"
   ]
  },
  {
   "cell_type": "code",
   "execution_count": 3,
   "id": "c7f307a8",
   "metadata": {},
   "outputs": [],
   "source": [
    "text = preprocess_text(stopwords='yes')"
   ]
  },
  {
   "cell_type": "markdown",
   "id": "19d9e155",
   "metadata": {},
   "source": [
    "Build dictionaries to store word indexes (word to index & index to word)"
   ]
  },
  {
   "cell_type": "code",
   "execution_count": 4,
   "id": "c4fb2172",
   "metadata": {},
   "outputs": [],
   "source": [
    "def build_dict(text):\n",
    "    word_to_index = {}\n",
    "    index_to_word = {}\n",
    "    corpus = []\n",
    "    index = 0\n",
    "\n",
    "    for s in text:\n",
    "        for word in s.split(' '):\n",
    "            word = word.lower()\n",
    "\n",
    "            if len(word) > 0:\n",
    "                corpus.append(word)\n",
    "                if word_to_index.get(word) == None:\n",
    "                    word_to_index.update({word: index})\n",
    "                    index_to_word.update({index: word})\n",
    "                    index += 1\n",
    "    \n",
    "    return word_to_index, index_to_word, corpus"
   ]
  },
  {
   "cell_type": "markdown",
   "id": "385c36b2",
   "metadata": {},
   "source": [
    "Generate one-hot-vector to each unique word"
   ]
  },
  {
   "cell_type": "code",
   "execution_count": 5,
   "id": "bcbf9ad3",
   "metadata": {},
   "outputs": [],
   "source": [
    "def one_hot_vec(target_word, context_words, corpus, word_to_index, index_to_word):\n",
    "    size_vocab = len(word_to_index)\n",
    "    target_word_vec = np.zeros(size_vocab)\n",
    "    context_words_vec = np.zeros(size_vocab)  # set the context words into one vector to save space\n",
    "\n",
    "    target_index = word_to_index.get(target_word)\n",
    "    target_word_vec[target_index] = 1\n",
    "\n",
    "    for word in context_words:\n",
    "        context_index = word_to_index.get(word)\n",
    "        context_words_vec[context_index] = 1\n",
    "        \n",
    "    return target_word_vec, context_words_vec"
   ]
  },
  {
   "cell_type": "markdown",
   "id": "bc7699fd",
   "metadata": {},
   "source": [
    "Prepare the training dataset"
   ]
  },
  {
   "cell_type": "code",
   "execution_count": 12,
   "id": "77efe740",
   "metadata": {},
   "outputs": [],
   "source": [
    "def generate_training_data(window_size, corpus, word_to_index, index_to_word):\n",
    "    training_data = []\n",
    "\n",
    "    for i, word in enumerate(corpus):\n",
    "        context_word = []\n",
    "        if i == 0:\n",
    "            context_word = corpus[(i + 1): (i + 1 + window_size)]      \n",
    "        elif i == len(corpus) - 1:\n",
    "            context_word = corpus[(i - window_size): i]\n",
    "        else:\n",
    "            if i - window_size < 0:\n",
    "                context_word = corpus[0: i] + corpus[(i + 1): (i + 1 + window_size)]\n",
    "            elif i + window_size > len(corpus):\n",
    "                context_word = corpus[(i - window_size): i] + corpus[(i + 1): len(corpus)]              \n",
    "            else:\n",
    "                context_word = corpus[(i - window_size): i] + corpus[(i + 1): (i + 1 + window_size)]\n",
    "            \n",
    "        target_word_vec, context_words_vec = one_hot_vec(word, context_word, corpus, word_to_index, index_to_word)\n",
    "        training_data.append([target_word_vec, context_words_vec])\n",
    "    \n",
    "    return training_data"
   ]
  },
  {
   "cell_type": "markdown",
   "id": "332f8e31",
   "metadata": {},
   "source": [
    "Test for functions"
   ]
  },
  {
   "cell_type": "code",
   "execution_count": 37,
   "id": "00d09389",
   "metadata": {},
   "outputs": [],
   "source": [
    "text = ['natural language processing and machine learning is fun and exciting']"
   ]
  },
  {
   "cell_type": "code",
   "execution_count": 13,
   "id": "a00f9c3c",
   "metadata": {},
   "outputs": [],
   "source": [
    "window_size = 2\n",
    "word_to_index, index_to_word, corpus = build_dict(text)\n",
    "training_words = generate_training_data(window_size, corpus, word_to_index, index_to_word)"
   ]
  },
  {
   "cell_type": "markdown",
   "id": "c0fe9219",
   "metadata": {},
   "source": [
    "# Model Training - Skip-gram Model"
   ]
  },
  {
   "cell_type": "markdown",
   "id": "0a375714",
   "metadata": {},
   "source": [
    "Forward Propogation"
   ]
  },
  {
   "cell_type": "code",
   "execution_count": 8,
   "id": "cb08e630",
   "metadata": {},
   "outputs": [],
   "source": [
    "def forward_prop(input_weights, hidden_weights, X):\n",
    "    hidden_layer = np.dot(X, input_weights)\n",
    "    output_layer = np.dot(hidden_layer, hidden_weights)\n",
    "    y_hat = softmax(output_layer)\n",
    "    \n",
    "    return y_hat, hidden_layer, output_layer\n",
    "\n",
    "def softmax(Z):\n",
    "    e_x = np.exp(Z - np.max(Z))\n",
    "    return e_x / e_x.sum(axis=0)\n"
   ]
  },
  {
   "cell_type": "markdown",
   "id": "d6017b8b",
   "metadata": {},
   "source": [
    "Cost Function"
   ]
  },
  {
   "cell_type": "code",
   "execution_count": 24,
   "id": "5cadcb37",
   "metadata": {},
   "outputs": [],
   "source": [
    "def error_fun(context_words_vec, y_hat):\n",
    "    vector_list = []\n",
    "    length = len(context_words_vec)\n",
    "    errors = []\n",
    "\n",
    "    for i in range(length):\n",
    "        if context_words_vec[i] == 1:\n",
    "            vec = [0 if k != i else 1 for k in range(length)]\n",
    "            vector_list.append(vec)\n",
    "\n",
    "    error = np.zeros(length)\n",
    "    for vec in vector_list:\n",
    "        error += np.subtract(y_hat, vec)\n",
    "    errors.append(error)\n",
    "    \n",
    "    errors = np.array(errors)\n",
    "        \n",
    "    return errors"
   ]
  },
  {
   "cell_type": "markdown",
   "id": "cd3206d7",
   "metadata": {},
   "source": [
    "Back Propogation"
   ]
  },
  {
   "cell_type": "code",
   "execution_count": 26,
   "id": "5f7174ba",
   "metadata": {},
   "outputs": [],
   "source": [
    "def back_prop(y_hat, input_weights, hidden_weights, \n",
    "              error, hidden_layer, learning_rate, target_word_vec):\n",
    "    delta_input_weights = np.outer(target_word_vec, np.dot(hidden_weights, error.T))\n",
    "    delta_hidden_weights = np.outer(hidden_layer, error)\n",
    "    \n",
    "    # update weights\n",
    "    input_weights_updated = input_weights - learning_rate * delta_input_weights\n",
    "    hidded_weights_updated = hidden_weights - learning_rate * delta_hidden_weights\n",
    "    \n",
    "    return input_weights_updated, hidded_weights_updated"
   ]
  },
  {
   "cell_type": "markdown",
   "id": "c776ebfe",
   "metadata": {},
   "source": [
    "Calculate loss"
   ]
  },
  {
   "cell_type": "code",
   "execution_count": 21,
   "id": "4cffe792",
   "metadata": {},
   "outputs": [],
   "source": [
    "def loss_fun(output_layer, context_words_vec): \n",
    "    total_loss = 0\n",
    "    \n",
    "    sum1 = 0\n",
    "\n",
    "    for index in np.where(context_words_vec == 1)[0]:\n",
    "        sum1 += output_layer[index]\n",
    "\n",
    "    sum1 = -sum1\n",
    "    sum2 = len(np.where(context_words_vec == 1)[0]) * np.log(np.sum(np.exp(output_layer)))\n",
    "\n",
    "    loss = sum1 + sum2\n",
    "    total_loss += loss\n",
    "    \n",
    "    return total_loss"
   ]
  },
  {
   "cell_type": "markdown",
   "id": "8efc35e3",
   "metadata": {},
   "source": [
    "Train Model"
   ]
  },
  {
   "cell_type": "code",
   "execution_count": 19,
   "id": "9b0bd8d2",
   "metadata": {},
   "outputs": [],
   "source": [
    "def train(word_embedding_size, training_words, learning_rate, num_epoch):\n",
    "    vocab_size = training_target_words.shape[1]\n",
    "\n",
    "    input_weights = np.random.uniform(-1, 1, (vocab_size, word_embedding_size))\n",
    "    hidden_weights = np.random.uniform(-1, 1, (word_embedding_size, vocab_size))\n",
    "    \n",
    "    epoch_loss = []\n",
    "    weights_1 = []\n",
    "    weights_2 = []\n",
    "    total_loss = 0\n",
    "    \n",
    "    for i in range(num_epoch):\n",
    "        \n",
    "        for target_word, context_word in training_words:\n",
    "            y_hat, hidden_layer, output_layer = forward_prop(input_weights, hidden_weights, target_word)\n",
    "            error = error_fun(context_word, y_hat)\n",
    "            input_weights, hidden_weights = back_prop(y_hat, input_weights, hidden_weights, \n",
    "                          error, hidden_layer, learning_rate, target_word)\n",
    "            loss = loss_fun(output_layer, context_word)\n",
    "            total_loss += loss\n",
    "    \n",
    "        epoch_loss.append(loss)\n",
    "        weights_1.append(input_weights)\n",
    "        weights_2.append(hidden_weights)\n",
    "        \n",
    "    \n",
    "    return epoch_loss, weights_1, weights_2"
   ]
  },
  {
   "cell_type": "code",
   "execution_count": 30,
   "id": "0fa0e622",
   "metadata": {},
   "outputs": [
    {
     "data": {
      "text/plain": [
       "[<matplotlib.lines.Line2D at 0x1d06a910520>]"
      ]
     },
     "execution_count": 30,
     "metadata": {},
     "output_type": "execute_result"
    },
    {
     "data": {
      "image/png": "[encoded data removed]",
      "text/plain": [
       "<Figure size 432x288 with 1 Axes>"
      ]
     },
     "metadata": {
      "needs_background": "light"
     },
     "output_type": "display_data"
    }
   ],
   "source": [
    "import matplotlib.pyplot as plt\n",
    "\n",
    "epoch_num = 100\n",
    "learning_rate = 0.01\n",
    "word_embedding_size = 100\n",
    "epoch_loss, weights_1, weights_2 = train(word_embedding_size, training_words, learning_rate, epoch_num)\n",
    "\n",
    "plt.plot(list(range(epoch_num)), epoch_loss, '-r')"
   ]
  },
  {
   "cell_type": "code",
   "execution_count": null,
   "id": "93bc15a2",
   "metadata": {},
   "outputs": [],
   "source": []
  }
 ],
 "metadata": {
  "kernelspec": {
   "display_name": "Python 3",
   "language": "python",
   "name": "python3"
  },
  "language_info": {
   "codemirror_mode": {
    "name": "ipython",
    "version": 3
   },
   "file_extension": ".py",
   "mimetype": "text/x-python",
   "name": "python",
   "nbconvert_exporter": "python",
   "pygments_lexer": "ipython3",
   "version": "3.8.8"
  }
 },
 "nbformat": 4,
 "nbformat_minor": 5
}
